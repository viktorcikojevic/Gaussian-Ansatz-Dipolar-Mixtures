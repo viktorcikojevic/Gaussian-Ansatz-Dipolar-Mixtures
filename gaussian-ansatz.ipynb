{
 "metadata": {
  "language_info": {
   "codemirror_mode": {
    "name": "ipython",
    "version": 3
   },
   "file_extension": ".py",
   "mimetype": "text/x-python",
   "name": "python",
   "nbconvert_exporter": "python",
   "pygments_lexer": "ipython3",
   "version": "3.8.5"
  },
  "orig_nbformat": 2,
  "kernelspec": {
   "name": "python3",
   "display_name": "Python 3",
   "language": "python"
  }
 },
 "nbformat": 4,
 "nbformat_minor": 2,
 "cells": [
  {
   "cell_type": "code",
   "execution_count": 11,
   "metadata": {},
   "outputs": [
    {
     "output_type": "stream",
     "name": "stdout",
     "text": [
      "Kinetic [10.70953852 21.41907704]\n 221.5014158960181\n21.479584894651968\nRELATIVE DIFFERENCES\n3.567969888555933\n1.4048215198694731\n0.6799895188583222\n14.071093736220044\nLHY\n0.06426436961444326\n0.6158568978739299\n"
     ]
    }
   ],
   "source": [
    "import numpy as np\n",
    "\n",
    "#constant \n",
    "r_0 = 387.4 #https://www.wolframalpha.com/input/?i=161.9+atomic+mass+unit+*+mu_0+*+%289.93+bohr+magneton%29%5E2+%2F+%284+pi+hbar%5E2%29+in+bohr+radius \n",
    "mu_m = 1.E-06 / (r_0 * 0.529E-10)\n",
    "\n",
    "#input parameters\n",
    "\n",
    "\n",
    "a_11 = 60 / r_0\n",
    "a_22 = 70 / r_0\n",
    "#a_12 =604.5 / r_0 #variable\n",
    "a_12 = 80. / r_0 #variable\n",
    "\n",
    "g_11 = 4*np.pi*a_11\n",
    "g_22 = 4*np.pi*a_22\n",
    "g_12 = 4*np.pi*a_12 #mass is the same\n",
    "c_lhy = 8/(15*np.sqrt(2*np.pi * (4*np.pi)**3))\n",
    "\n",
    "g_dd = 4*np.pi / 3\n",
    "\n",
    "init_rho = 10* mu_m / 10\n",
    "init_z = 1  * mu_m / 10\n",
    "n1 = 1000\n",
    "n2 = 2000\n",
    "\n",
    "def kin_en(lr, lz, n1, n2):\n",
    "    return 0.25 * (2/lr**2 + 1/lz**2) * np.array([n1, n2])\n",
    "\n",
    "def fdip_func(kappa):\n",
    "    #return 0.\n",
    "    kappa = kappa + 0.j\n",
    "    return ((2*kappa**2 + 1)/(kappa**2 - 1) - (3*kappa**2 * np.arctan(np.sqrt(kappa**2 - 1)))/(kappa**2 - 1)**1.5).real\n",
    "\n",
    "def en_mf(lr, lz, n1, n2):\n",
    "    kappa = lr / lz\n",
    "    fd = fdip_func(kappa)\n",
    "    r = 1 / (2 * (2*np.pi)**1.5 * lr**2 * lz)\n",
    "    return r * (n1**2 * (g_11 + g_dd*fd) + n2**2 * (g_22 + g_dd*fd) + 2*n1*n2 * (g_12 + g_dd*fd))\n",
    "\n",
    "\n",
    "def get_q_lambda(u, eta_11, eta_22, eta_12):\n",
    "    a = n1 * eta_11 + n2 * eta_22 + 0.j\n",
    "    b = np.sqrt((n1*eta_11 - n2*eta_22)**2 + 4*eta_12**2 * n1*n2)\n",
    "    return a + b, a - b\n",
    "\n",
    "def en_lhy(lr, lz, n1, n2):\n",
    "    r = 32/(75*np.sqrt(5*np.pi)) / (4*np.pi**2.5 * lr**2 * lz)**1.5\n",
    "    u = np.linspace(0, 1, num = 100000)\n",
    "    du = u[1] - u[0]\n",
    "    eta_11 = g_11 + g_dd * (3*u**2 - 1)\n",
    "    eta_12 = g_12 + g_dd * (3*u**2 - 1)\n",
    "    eta_22 = g_22 + g_dd * (3*u**2 - 1)\n",
    "    q1, q2 = get_q_lambda(u, eta_11, eta_22, eta_12)\n",
    "    return r * (np.sum(q1**2.5 * du) + np.sum(q2**2.5 * du)).real\n",
    "\n",
    "def rel_diff(a, b):\n",
    "    return np.abs(100 * (a - b) / a)\n",
    "\n",
    "print(\"Kinetic\", kin_en(init_rho, init_z, n1, n2))\n",
    "print(\"\", en_mf(init_rho, init_z, n1, n2))\n",
    "print(en_lhy(init_rho, init_z, n1, n2))\n",
    "\n",
    "print(\"RELATIVE DIFFERENCES\")\n",
    "print(rel_diff(213.87057807, en_mf(init_rho, init_z, n1, n2)))\n",
    "print(rel_diff(218.43282457, en_mf(init_rho, init_z, n1, n2)))\n",
    "print(rel_diff(220.00540222, en_mf(init_rho, init_z, n1, n2)))\n",
    "print(rel_diff(194.1783923, en_mf(init_rho, init_z, n1, n2)))\n",
    "print(\"LHY\")\n",
    "print(rel_diff(21.46579004, en_lhy(init_rho, init_z, n1, n2)))\n",
    "print(rel_diff(21.34811108, en_lhy(init_rho, init_z, n1, n2)))\n",
    "\n"
   ]
  },
  {
   "cell_type": "code",
   "execution_count": null,
   "metadata": {},
   "outputs": [],
   "source": [
    "def"
   ]
  }
 ]
}